{
 "cells": [
  {
   "cell_type": "markdown",
   "metadata": {},
   "source": [
    "# REEpy - Data Visualization Notebook\n",
    "\n",
    "This notebook demonstrates how to use the REEpy package to fetch and visualize electricity data from Red Eléctrica Española (REE)."
   ]
  },
  {
   "cell_type": "markdown",
   "metadata": {},
   "source": [
    "## Setup\n",
    "\n",
    "First, let's import the necessary libraries and initialize the REE client."
   ]
  },
  {
   "cell_type": "code",
   "execution_count": 6,
   "metadata": {},
   "outputs": [],
   "source": [
    "# Add the Reepy project directory to the Python path\n",
    "import sys\n",
    "import os\n",
    "\n",
    "# Get the absolute path to the project root directory (parent of the notebooks directory)\n",
    "project_root = os.path.abspath(os.path.join(os.getcwd(), \"..\"))\n",
    "\n",
    "# Add the project root to the Python path if it's not already there\n",
    "if project_root not in sys.path:\n",
    "    sys.path.insert(0, project_root)\n",
    "\n",
    "# Now you can import reepi modules\n",
    "import reepi"
   ]
  },
  {
   "cell_type": "code",
   "execution_count": 7,
   "metadata": {},
   "outputs": [
    {
     "name": "stderr",
     "output_type": "stream",
     "text": [
      "/Users/ignasipascual/Library/Python/3.9/lib/python/site-packages/urllib3/__init__.py:34: NotOpenSSLWarning: urllib3 v2 only supports OpenSSL 1.1.1+, currently the 'ssl' module is compiled with 'LibreSSL 2.8.3'. See: https://github.com/urllib3/urllib3/issues/3020\n",
      "  warnings.warn(\n"
     ]
    }
   ],
   "source": [
    "# Make sure the REEpy package is installed\n",
    "# If not installed, run: !pip install -e ..\n",
    "\n",
    "import pandas as pd\n",
    "import numpy as np\n",
    "import matplotlib.pyplot as plt\n",
    "import plotly.express as px\n",
    "import plotly.graph_objects as go\n",
    "from datetime import datetime, timedelta\n",
    "\n",
    "# Set plotting style\n",
    "plt.style.use('seaborn-v0_8-whitegrid')\n",
    "plt.rcParams['figure.figsize'] = (14, 8)\n",
    "\n",
    "# Import REEpy components\n",
    "from reepi.api.client import REEClient\n",
    "from reepi.utils.data_processing import (\n",
    "    format_datetime,\n",
    "    calculate_renewable_percentage,\n",
    "    aggregate_by_type,\n",
    "    calculate_daily_average,\n",
    "    extract_time_series\n",
    ")\n",
    "\n",
    "# Initialize the client\n",
    "client = REEClient()"
   ]
  },
  {
   "cell_type": "markdown",
   "metadata": {},
   "source": [
    "## 1. Fetching Electricity Generation Mix Data\n",
    "\n",
    "Let's fetch data about the electricity generation mix for the past week."
   ]
  },
  {
   "cell_type": "code",
   "execution_count": 8,
   "metadata": {},
   "outputs": [
    {
     "name": "stdout",
     "output_type": "stream",
     "text": [
      "2025-05-05 18:56:10,742 - reepi.api.client - ERROR - Request error: 404 Client Error: Not Found for url: https://apidatos.ree.es/en/api/generation/evolution?start_date=2025-04-28&end_date=2025-05-05&time_trunc=hour\n"
     ]
    },
    {
     "ename": "HTTPError",
     "evalue": "404 Client Error: Not Found for url: https://apidatos.ree.es/en/api/generation/evolution?start_date=2025-04-28&end_date=2025-05-05&time_trunc=hour",
     "output_type": "error",
     "traceback": [
      "\u001b[0;31m---------------------------------------------------------------------------\u001b[0m",
      "\u001b[0;31mHTTPError\u001b[0m                                 Traceback (most recent call last)",
      "Cell \u001b[0;32mIn[8], line 10\u001b[0m\n\u001b[1;32m      7\u001b[0m end_date_str \u001b[38;5;241m=\u001b[39m end_date\u001b[38;5;241m.\u001b[39mstrftime(\u001b[38;5;124m\"\u001b[39m\u001b[38;5;124m%\u001b[39m\u001b[38;5;124mY-\u001b[39m\u001b[38;5;124m%\u001b[39m\u001b[38;5;124mm-\u001b[39m\u001b[38;5;132;01m%d\u001b[39;00m\u001b[38;5;124m\"\u001b[39m)\n\u001b[1;32m      9\u001b[0m \u001b[38;5;66;03m# Fetch generation mix data\u001b[39;00m\n\u001b[0;32m---> 10\u001b[0m generation_data \u001b[38;5;241m=\u001b[39m \u001b[43mclient\u001b[49m\u001b[38;5;241;43m.\u001b[39;49m\u001b[43mget_generation_mix\u001b[49m\u001b[43m(\u001b[49m\u001b[43mstart_date_str\u001b[49m\u001b[43m,\u001b[49m\u001b[43m \u001b[49m\u001b[43mend_date_str\u001b[49m\u001b[43m,\u001b[49m\u001b[43m \u001b[49m\u001b[38;5;124;43m\"\u001b[39;49m\u001b[38;5;124;43mhour\u001b[39;49m\u001b[38;5;124;43m\"\u001b[39;49m\u001b[43m)\u001b[49m\n\u001b[1;32m     11\u001b[0m generation_df \u001b[38;5;241m=\u001b[39m client\u001b[38;5;241m.\u001b[39mparse_generation_data(generation_data)\n\u001b[1;32m     12\u001b[0m generation_df \u001b[38;5;241m=\u001b[39m format_datetime(generation_df)\n",
      "File \u001b[0;32m~/GitHub/Reepy/reepi/api/client.py:102\u001b[0m, in \u001b[0;36mREEClient.get_generation_mix\u001b[0;34m(self, start_date, end_date, time_trunc)\u001b[0m\n\u001b[1;32m     85\u001b[0m \u001b[38;5;250m\u001b[39m\u001b[38;5;124;03m\"\"\"\u001b[39;00m\n\u001b[1;32m     86\u001b[0m \u001b[38;5;124;03mGet electricity generation mix data.\u001b[39;00m\n\u001b[1;32m     87\u001b[0m \u001b[38;5;124;03m\u001b[39;00m\n\u001b[0;32m   (...)\u001b[0m\n\u001b[1;32m     94\u001b[0m \u001b[38;5;124;03m    Generation mix data\u001b[39;00m\n\u001b[1;32m     95\u001b[0m \u001b[38;5;124;03m\"\"\"\u001b[39;00m\n\u001b[1;32m     96\u001b[0m params \u001b[38;5;241m=\u001b[39m {\n\u001b[1;32m     97\u001b[0m     \u001b[38;5;124m\"\u001b[39m\u001b[38;5;124mstart_date\u001b[39m\u001b[38;5;124m\"\u001b[39m: start_date,\n\u001b[1;32m     98\u001b[0m     \u001b[38;5;124m\"\u001b[39m\u001b[38;5;124mend_date\u001b[39m\u001b[38;5;124m\"\u001b[39m: end_date,\n\u001b[1;32m     99\u001b[0m     \u001b[38;5;124m\"\u001b[39m\u001b[38;5;124mtime_trunc\u001b[39m\u001b[38;5;124m\"\u001b[39m: time_trunc\n\u001b[1;32m    100\u001b[0m }\n\u001b[0;32m--> 102\u001b[0m \u001b[38;5;28;01mreturn\u001b[39;00m \u001b[38;5;28;43mself\u001b[39;49m\u001b[38;5;241;43m.\u001b[39;49m\u001b[43m_make_request\u001b[49m\u001b[43m(\u001b[49m\u001b[38;5;124;43m\"\u001b[39;49m\u001b[38;5;124;43mgeneration/evolution\u001b[39;49m\u001b[38;5;124;43m\"\u001b[39;49m\u001b[43m,\u001b[49m\u001b[43m \u001b[49m\u001b[43mparams\u001b[49m\u001b[43m)\u001b[49m\n",
      "File \u001b[0;32m~/GitHub/Reepy/reepi/api/client.py:59\u001b[0m, in \u001b[0;36mREEClient._make_request\u001b[0;34m(self, endpoint, params)\u001b[0m\n\u001b[1;32m     57\u001b[0m \u001b[38;5;28;01mtry\u001b[39;00m:\n\u001b[1;32m     58\u001b[0m     response \u001b[38;5;241m=\u001b[39m \u001b[38;5;28mself\u001b[39m\u001b[38;5;241m.\u001b[39msession\u001b[38;5;241m.\u001b[39mget(url, params\u001b[38;5;241m=\u001b[39mparams, timeout\u001b[38;5;241m=\u001b[39m\u001b[38;5;28mself\u001b[39m\u001b[38;5;241m.\u001b[39mtimeout)\n\u001b[0;32m---> 59\u001b[0m     \u001b[43mresponse\u001b[49m\u001b[38;5;241;43m.\u001b[39;49m\u001b[43mraise_for_status\u001b[49m\u001b[43m(\u001b[49m\u001b[43m)\u001b[49m\n\u001b[1;32m     60\u001b[0m     \u001b[38;5;28;01mreturn\u001b[39;00m response\u001b[38;5;241m.\u001b[39mjson()\n\u001b[1;32m     61\u001b[0m \u001b[38;5;28;01mexcept\u001b[39;00m requests\u001b[38;5;241m.\u001b[39mRequestException \u001b[38;5;28;01mas\u001b[39;00m e:\n",
      "File \u001b[0;32m~/Library/Python/3.9/lib/python/site-packages/requests/models.py:1021\u001b[0m, in \u001b[0;36mResponse.raise_for_status\u001b[0;34m(self)\u001b[0m\n\u001b[1;32m   1016\u001b[0m     http_error_msg \u001b[38;5;241m=\u001b[39m (\n\u001b[1;32m   1017\u001b[0m         \u001b[38;5;124mf\u001b[39m\u001b[38;5;124m\"\u001b[39m\u001b[38;5;132;01m{\u001b[39;00m\u001b[38;5;28mself\u001b[39m\u001b[38;5;241m.\u001b[39mstatus_code\u001b[38;5;132;01m}\u001b[39;00m\u001b[38;5;124m Server Error: \u001b[39m\u001b[38;5;132;01m{\u001b[39;00mreason\u001b[38;5;132;01m}\u001b[39;00m\u001b[38;5;124m for url: \u001b[39m\u001b[38;5;132;01m{\u001b[39;00m\u001b[38;5;28mself\u001b[39m\u001b[38;5;241m.\u001b[39murl\u001b[38;5;132;01m}\u001b[39;00m\u001b[38;5;124m\"\u001b[39m\n\u001b[1;32m   1018\u001b[0m     )\n\u001b[1;32m   1020\u001b[0m \u001b[38;5;28;01mif\u001b[39;00m http_error_msg:\n\u001b[0;32m-> 1021\u001b[0m     \u001b[38;5;28;01mraise\u001b[39;00m HTTPError(http_error_msg, response\u001b[38;5;241m=\u001b[39m\u001b[38;5;28mself\u001b[39m)\n",
      "\u001b[0;31mHTTPError\u001b[0m: 404 Client Error: Not Found for url: https://apidatos.ree.es/en/api/generation/evolution?start_date=2025-04-28&end_date=2025-05-05&time_trunc=hour"
     ]
    }
   ],
   "source": [
    "# Define date range\n",
    "end_date = datetime.now()\n",
    "start_date = end_date - timedelta(days=7)\n",
    "\n",
    "# Format dates for API\n",
    "start_date_str = start_date.strftime(\"%Y-%m-%d\")\n",
    "end_date_str = end_date.strftime(\"%Y-%m-%d\")\n",
    "\n",
    "# Fetch generation mix data\n",
    "generation_data = client.get_generation_mix(start_date_str, end_date_str, \"hour\")\n",
    "generation_df = client.parse_generation_data(generation_data)\n",
    "generation_df = format_datetime(generation_df)\n",
    "\n",
    "# Display the first few rows\n",
    "generation_df.head()"
   ]
  },
  {
   "cell_type": "markdown",
   "metadata": {},
   "source": [
    "### Visualizing Generation Mix\n",
    "\n",
    "Now let's create some visualizations of the generation mix data."
   ]
  },
  {
   "cell_type": "code",
   "execution_count": null,
   "metadata": {},
   "outputs": [],
   "source": [
    "# Create a stacked area chart for generation mix\n",
    "fig = px.area(\n",
    "    generation_df, \n",
    "    x=\"datetime\", \n",
    "    y=\"value\", \n",
    "    color=\"type\",\n",
    "    title=\"Electricity Generation Mix (Past Week)\",\n",
    "    labels={\"value\": \"Production (MW)\", \"datetime\": \"Date\", \"type\": \"Source\"}\n",
    ")\n",
    "\n",
    "fig.update_layout(\n",
    "    legend=dict(orientation=\"h\", yanchor=\"bottom\", y=1.02, xanchor=\"right\", x=1),\n",
    "    height=600\n",
    ")\n",
    "\n",
    "fig.show()"
   ]
  },
  {
   "cell_type": "markdown",
   "metadata": {},
   "source": [
    "### Calculating and Visualizing Renewable Percentage"
   ]
  },
  {
   "cell_type": "code",
   "execution_count": null,
   "metadata": {},
   "outputs": [],
   "source": [
    "# Calculate renewable percentage over time\n",
    "grouped_by_datetime = generation_df.groupby('datetime')\n",
    "renewable_percentages = []\n",
    "\n",
    "for dt, group in grouped_by_datetime:\n",
    "    renewable_pct = calculate_renewable_percentage(group)\n",
    "    renewable_percentages.append({'datetime': dt, 'renewable_percentage': renewable_pct})\n",
    "\n",
    "renewable_df = pd.DataFrame(renewable_percentages)\n",
    "\n",
    "# Plot renewable percentage over time\n",
    "fig = px.line(\n",
    "    renewable_df, \n",
    "    x=\"datetime\", \n",
    "    y=\"renewable_percentage\",\n",
    "    title=\"Renewable Energy Percentage (Past Week)\",\n",
    "    labels={\"renewable_percentage\": \"Percentage (%)\", \"datetime\": \"Date\"}\n",
    ")\n",
    "\n",
    "fig.update_layout(height=500)\n",
    "fig.show()"
   ]
  },
  {
   "cell_type": "markdown",
   "metadata": {},
   "source": [
    "## 2. Fetching and Visualizing Electricity Prices"
   ]
  },
  {
   "cell_type": "code",
   "execution_count": null,
   "metadata": {},
   "outputs": [],
   "source": [
    "# Fetch price data\n",
    "price_data = client.get_electricity_prices(start_date_str, end_date_str, \"hour\")\n",
    "price_df = client.parse_price_data(price_data)\n",
    "price_df = format_datetime(price_df)\n",
    "\n",
    "# Display the first few rows\n",
    "price_df.head()"
   ]
  },
  {
   "cell_type": "code",
   "execution_count": null,
   "metadata": {},
   "outputs": [],
   "source": [
    "# Plot electricity prices\n",
    "fig = px.line(\n",
    "    price_df, \n",
    "    x=\"datetime\", \n",
    "    y=\"value\", \n",
    "    color=\"type\",\n",
    "    title=\"Electricity Price Evolution (Past Week)\",\n",
    "    labels={\"value\": \"Price (€/MWh)\", \"datetime\": \"Date\", \"type\": \"Market\"}\n",
    ")\n",
    "\n",
    "fig.update_layout(\n",
    "    legend=dict(orientation=\"h\", yanchor=\"bottom\", y=1.02, xanchor=\"right\", x=1),\n",
    "    height=500\n",
    ")\n",
    "\n",
    "fig.show()"
   ]
  },
  {
   "cell_type": "markdown",
   "metadata": {},
   "source": [
    "### Analyzing Price Statistics"
   ]
  },
  {
   "cell_type": "code",
   "execution_count": null,
   "metadata": {},
   "outputs": [],
   "source": [
    "# Calculate price statistics by day\n",
    "price_df['date'] = price_df['datetime'].dt.date\n",
    "daily_stats = price_df.groupby(['date', 'type'])['value'].agg(['min', 'mean', 'max']).reset_index()\n",
    "\n",
    "# Display stats\n",
    "daily_stats.head(10)"
   ]
  },
  {
   "cell_type": "code",
   "execution_count": null,
   "metadata": {},
   "outputs": [],
   "source": [
    "# Plot daily price ranges as a box plot\n",
    "fig = px.box(\n",
    "    price_df, \n",
    "    x=\"date\", \n",
    "    y=\"value\",\n",
    "    color=\"type\",\n",
    "    title=\"Daily Price Range (Past Week)\",\n",
    "    labels={\"value\": \"Price (€/MWh)\", \"date\": \"Date\", \"type\": \"Market\"}\n",
    ")\n",
    "\n",
    "fig.update_layout(height=500)\n",
    "fig.show()"
   ]
  },
  {
   "cell_type": "markdown",
   "metadata": {},
   "source": [
    "## 3. Fetching and Visualizing Electricity Demand"
   ]
  },
  {
   "cell_type": "code",
   "execution_count": null,
   "metadata": {},
   "outputs": [],
   "source": [
    "# Fetch demand data\n",
    "demand_data = client.get_demand_data(start_date_str, end_date_str, \"hour\")\n",
    "demand_df = extract_time_series(demand_data)\n",
    "demand_df = format_datetime(demand_df)\n",
    "\n",
    "# Display the first few rows\n",
    "demand_df.head()"
   ]
  },
  {
   "cell_type": "code",
   "execution_count": null,
   "metadata": {},
   "outputs": [],
   "source": [
    "# Plot demand data\n",
    "fig = px.line(\n",
    "    demand_df, \n",
    "    x=\"datetime\", \n",
    "    y=\"value\", \n",
    "    color=\"type\",\n",
    "    title=\"Electricity Demand (Past Week)\",\n",
    "    labels={\"value\": \"Demand (MW)\", \"datetime\": \"Date\", \"type\": \"Type\"}\n",
    ")\n",
    "\n",
    "fig.update_layout(\n",
    "    legend=dict(orientation=\"h\", yanchor=\"bottom\", y=1.02, xanchor=\"right\", x=1),\n",
    "    height=500\n",
    ")\n",
    "\n",
    "fig.show()"
   ]
  },
  {
   "cell_type": "markdown",
   "metadata": {},
   "source": [
    "### Analyzing Demand Patterns"
   ]
  },
  {
   "cell_type": "code",
   "execution_count": null,
   "metadata": {},
   "outputs": [],
   "source": [
    "# Add hour and weekday columns for pattern analysis\n",
    "demand_df['hour'] = demand_df['datetime'].dt.hour\n",
    "demand_df['weekday'] = demand_df['datetime'].dt.day_name()\n",
    "\n",
    "# Create a heatmap of demand by hour and weekday\n",
    "demand_type = demand_df['type'].unique()[0]  # Get one type for analysis\n",
    "demand_pattern = demand_df[demand_df['type'] == demand_type].pivot_table(\n",
    "    index='weekday', \n",
    "    columns='hour',\n",
    "    values='value',\n",
    "    aggfunc='mean'\n",
    ")\n",
    "\n",
    "# Sort weekdays\n",
    "weekday_order = ['Monday', 'Tuesday', 'Wednesday', 'Thursday', 'Friday', 'Saturday', 'Sunday']\n",
    "demand_pattern = demand_pattern.reindex(weekday_order)\n",
    "\n",
    "# Create heatmap\n",
    "fig = px.imshow(\n",
    "    demand_pattern,\n",
    "    labels=dict(x=\"Hour of Day\", y=\"Day of Week\", color=\"Demand (MW)\"),\n",
    "    x=demand_pattern.columns,\n",
    "    y=demand_pattern.index,\n",
    "    title=f\"Average Demand Pattern by Hour and Day ({demand_type})\"\n",
    ")\n",
    "\n",
    "fig.update_layout(height=500)\n",
    "fig.show()"
   ]
  },
  {
   "cell_type": "markdown",
   "metadata": {},
   "source": [
    "## 4. Advanced Analysis: Correlations Between Data Types"
   ]
  },
  {
   "cell_type": "code",
   "execution_count": null,
   "metadata": {},
   "outputs": [],
   "source": [
    "# Prepare data for correlation analysis\n",
    "# We'll need to aggregate data to a common time granularity\n",
    "\n",
    "# Use hourly data\n",
    "# Simplify to one type of price and demand for comparison\n",
    "price_type = price_df['type'].unique()[0] if not price_df.empty else None\n",
    "demand_type = demand_df['type'].unique()[0] if not demand_df.empty else None\n",
    "\n",
    "# Extract simplified dataframes with just datetime and value\n",
    "if price_type and demand_type:\n",
    "    price_simple = price_df[price_df['type'] == price_type][['datetime', 'value']].rename(columns={'value': 'price'})\n",
    "    demand_simple = demand_df[demand_df['type'] == demand_type][['datetime', 'value']].rename(columns={'value': 'demand'})\n",
    "    \n",
    "    # Merge dataframes on datetime\n",
    "    corr_df = pd.merge(price_simple, demand_simple, on='datetime', how='inner')\n",
    "    \n",
    "    # Display merged data\n",
    "    corr_df.head()\n",
    "else:\n",
    "    print(\"Missing price or demand data for correlation analysis\")"
   ]
  },
  {
   "cell_type": "code",
   "execution_count": null,
   "metadata": {},
   "outputs": [],
   "source": [
    "# Create scatter plot to visualize correlation\n",
    "if 'corr_df' in locals() and not corr_df.empty:\n",
    "    fig = px.scatter(\n",
    "        corr_df, \n",
    "        x=\"demand\", \n",
    "        y=\"price\",\n",
    "        trendline=\"ols\",\n",
    "        title=f\"Correlation between Electricity Demand and Price\",\n",
    "        labels={\"demand\": f\"Demand (MW) - {demand_type}\", \"price\": f\"Price (€/MWh) - {price_type}\"}\n",
    "    )\n",
    "    \n",
    "    fig.update_layout(height=500)\n",
    "    fig.show()\n",
    "    \n",
    "    # Calculate correlation coefficient\n",
    "    correlation = corr_df['demand'].corr(corr_df['price'])\n",
    "    print(f\"Correlation coefficient between demand and price: {correlation:.4f}\")"
   ]
  },
  {
   "cell_type": "markdown",
   "metadata": {},
   "source": [
    "## 5. CO2 Emissions Analysis"
   ]
  },
  {
   "cell_type": "code",
   "execution_count": null,
   "metadata": {},
   "outputs": [],
   "source": [
    "# Fetch CO2 emissions data\n",
    "emissions_data = client.get_co2_emissions(start_date_str, end_date_str, \"day\")\n",
    "emissions_df = extract_time_series(emissions_data)\n",
    "emissions_df = format_datetime(emissions_df)\n",
    "\n",
    "# Display the first few rows\n",
    "emissions_df.head()"
   ]
  },
  {
   "cell_type": "code",
   "execution_count": null,
   "metadata": {},
   "outputs": [],
   "source": [
    "# Plot CO2 emissions\n",
    "if not emissions_df.empty:\n",
    "    fig = px.bar(\n",
    "        emissions_df, \n",
    "        x=\"datetime\", \n",
    "        y=\"value\", \n",
    "        color=\"type\",\n",
    "        title=\"CO2 Emissions from Electricity Generation\",\n",
    "        labels={\"value\": \"CO2 (tCO2eq)\", \"datetime\": \"Date\", \"type\": \"Type\"}\n",
    "    )\n",
    "    \n",
    "    fig.update_layout(\n",
    "        legend=dict(orientation=\"h\", yanchor=\"bottom\", y=1.02, xanchor=\"right\", x=1),\n",
    "        height=500\n",
    "    )\n",
    "    \n",
    "    fig.show()\n",
    "else:\n",
    "    print(\"No emissions data available for the selected period.\")"
   ]
  },
  {
   "cell_type": "markdown",
   "metadata": {},
   "source": [
    "## 6. Exporting Data for Further Analysis\n",
    "\n",
    "You can export the data to CSV files for further analysis in other tools."
   ]
  },
  {
   "cell_type": "code",
   "execution_count": null,
   "metadata": {},
   "outputs": [],
   "source": [
    "# Export data to CSV files\n",
    "# Define export directory\n",
    "import os\n",
    "export_dir = \"../data\"\n",
    "os.makedirs(export_dir, exist_ok=True)\n",
    "\n",
    "# Export dataframes\n",
    "if not generation_df.empty:\n",
    "    generation_df.to_csv(f\"{export_dir}/generation_mix_{start_date_str}_to_{end_date_str}.csv\", index=False)\n",
    "    print(f\"Generation data exported to {export_dir}/generation_mix_{start_date_str}_to_{end_date_str}.csv\")\n",
    "    \n",
    "if not price_df.empty:\n",
    "    price_df.to_csv(f\"{export_dir}/electricity_prices_{start_date_str}_to_{end_date_str}.csv\", index=False)\n",
    "    print(f\"Price data exported to {export_dir}/electricity_prices_{start_date_str}_to_{end_date_str}.csv\")\n",
    "    \n",
    "if not demand_df.empty:\n",
    "    demand_df.to_csv(f\"{export_dir}/electricity_demand_{start_date_str}_to_{end_date_str}.csv\", index=False)\n",
    "    print(f\"Demand data exported to {export_dir}/electricity_demand_{start_date_str}_to_{end_date_str}.csv\")\n",
    "    \n",
    "if not emissions_df.empty:\n",
    "    emissions_df.to_csv(f\"{export_dir}/co2_emissions_{start_date_str}_to_{end_date_str}.csv\", index=False)\n",
    "    print(f\"Emissions data exported to {export_dir}/co2_emissions_{start_date_str}_to_{end_date_str}.csv\")"
   ]
  },
  {
   "cell_type": "markdown",
   "metadata": {},
   "source": [
    "## 7. Conclusion\n",
    "\n",
    "This notebook demonstrates how to use the REEpy package to fetch and visualize electricity data from Red Eléctrica Española (REE). You can extend this analysis by:\n",
    "\n",
    "1. Analyzing longer time periods to identify seasonal patterns\n",
    "2. Building forecasting models for electricity demand or prices\n",
    "3. Comparing renewable energy growth over time\n",
    "4. Analyzing the relationship between weather data and generation/demand\n",
    "\n",
    "For more information about the REE API, visit: [https://www.ree.es/en/apidatos](https://www.ree.es/en/apidatos)"
   ]
  }
 ],
 "metadata": {
  "kernelspec": {
   "display_name": "Python 3",
   "language": "python",
   "name": "python3"
  },
  "language_info": {
   "codemirror_mode": {
    "name": "ipython",
    "version": 3
   },
   "file_extension": ".py",
   "mimetype": "text/x-python",
   "name": "python",
   "nbconvert_exporter": "python",
   "pygments_lexer": "ipython3",
   "version": "3.9.6"
  }
 },
 "nbformat": 4,
 "nbformat_minor": 4
}
